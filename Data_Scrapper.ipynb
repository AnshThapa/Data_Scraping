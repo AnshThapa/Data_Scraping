{
 "cells": [
  {
   "cell_type": "code",
   "execution_count": 13,
   "id": "7122b187",
   "metadata": {},
   "outputs": [],
   "source": [
    "import requests\n",
    "from bs4 import BeautifulSoup\n",
    "import pandas as pd\n",
    "import time"
   ]
  },
  {
   "cell_type": "code",
   "execution_count": 17,
   "id": "8c969595",
   "metadata": {},
   "outputs": [],
   "source": [
    "# define the URL of the B2B directory and search term\n",
    "BASE_URL = \"https://www.yellowpages.com\"\n",
    "SEARCH_PATH = \"/search\"\n",
    "SEARCH_QUERY = \"food Services\"  # change this to the industry/category of your choice\n",
    "LOCATION = \"Detroit, MI\"  # can modify if needed"
   ]
  },
  {
   "cell_type": "code",
   "execution_count": 18,
   "id": "a35c2a0e",
   "metadata": {},
   "outputs": [],
   "source": [
    "# create an empty list to store the extracted data\n",
    "companies_data = []\n"
   ]
  },
  {
   "cell_type": "code",
   "execution_count": 19,
   "id": "8e0a9de5",
   "metadata": {},
   "outputs": [
    {
     "name": "stdout",
     "output_type": "stream",
     "text": [
      "Scraping page 1...\n",
      "Scraping page 2...\n",
      "Scraping page 3...\n",
      "Data scraping completed. The results are saved\n"
     ]
    }
   ],
   "source": [
    "# loop through the first 2-3 pages of search results\n",
    "for page in range(1, 4):  # adjust the range of page\n",
    "    print(f\"Scraping page {page}...\")\n",
    "    \n",
    "    # construct the URL with query parameters\n",
    "    params = {\n",
    "        \"search_terms\": SEARCH_QUERY,\n",
    "        \"geo_location_terms\": LOCATION,\n",
    "        \"page\": page,\n",
    "    }\n",
    "    response = requests.get(BASE_URL + SEARCH_PATH, params=params)\n",
    "    \n",
    "    # check for HTTP request issues\n",
    "    if response.status_code != 200:\n",
    "        print(f\"Failed to fetch page {page}. HTTP Status Code: {response.status_code}\")\n",
    "        continue\n",
    "\n",
    "    # parse the HTML content\n",
    "    soup = BeautifulSoup(response.content, \"html.parser\")\n",
    "\n",
    "    # find all the company listings on the page\n",
    "    listings = soup.find_all(\"div\", class_=\"result\")\n",
    "\n",
    "    for listing in listings:\n",
    "        try:\n",
    "            # extract company details\n",
    "            company_name = listing.find(\"a\", class_=\"business-name\").text.strip()\n",
    "            website_url = listing.find(\"a\", class_=\"track-visit-website\")\n",
    "            website_url = website_url['href'] if website_url else \"N/A\"\n",
    "            phone = listing.find(\"div\", class_=\"phones phone primary\")\n",
    "            phone = phone.text.strip() if phone else \"N/A\"\n",
    "            address = listing.find(\"div\", class_=\"street-address\")\n",
    "            address = address.text.strip() if address else \"N/A\"\n",
    "            category = listing.find(\"div\", class_=\"categories\")\n",
    "            category = category.text.strip() if category else \"N/A\"\n",
    "            description = listing.find(\"div\", class_=\"snippet\")\n",
    "            description = description.text.strip() if description else \"N/A\"\n",
    "            \n",
    "            ## sometimes it may won't be able to get email\n",
    "            email_tag = listing.find(\"a\", class_=\"email-business\")\n",
    "            email = email_tag['href'].replace('mailto:', '').strip() if email_tag else \"N/A\"\n",
    "\n",
    "\n",
    "            # append the data to the list\n",
    "            companies_data.append({\n",
    "                \"Company Name\": company_name,\n",
    "                \"Website URL\": website_url,\n",
    "                \"Contact Number\": phone,\n",
    "                \"Location/Address\": address,\n",
    "                \"Industry/Category\": category,\n",
    "                \"Company Description\": description,\n",
    "                \"Email Address\": email\n",
    "            })\n",
    "        except Exception as e:\n",
    "            print(f\"Error extracting data for a listing: {e}\")\n",
    "            continue\n",
    "\n",
    "    # delay to avoid getting blocked\n",
    "    time.sleep(2)\n",
    "\n",
    "# save the data to a CSV file\n",
    "df = pd.DataFrame(companies_data)\n",
    "df.to_csv(f\"{SEARCH_QUERY}_companies_in_{LOCATION}_data.csv\", index=False)\n",
    "\n",
    "print(\"Data scraping completed. The results are saved\")\n"
   ]
  },
  {
   "cell_type": "code",
   "execution_count": null,
   "id": "fe4f8ce7",
   "metadata": {},
   "outputs": [],
   "source": []
  }
 ],
 "metadata": {
  "kernelspec": {
   "display_name": "Python 3 (ipykernel)",
   "language": "python",
   "name": "python3"
  },
  "language_info": {
   "codemirror_mode": {
    "name": "ipython",
    "version": 3
   },
   "file_extension": ".py",
   "mimetype": "text/x-python",
   "name": "python",
   "nbconvert_exporter": "python",
   "pygments_lexer": "ipython3",
   "version": "3.10.9"
  }
 },
 "nbformat": 4,
 "nbformat_minor": 5
}
